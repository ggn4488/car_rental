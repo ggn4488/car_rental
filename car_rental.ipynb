{
 "cells": [
  {
   "cell_type": "code",
   "execution_count": null,
   "id": "f60d82f3-f071-468b-8cae-b366e3224c4d",
   "metadata": {},
   "outputs": [
    {
     "name": "stdout",
     "output_type": "stream",
     "text": [
      "Welcome to our car rental services\n",
      "==================================\n",
      "What do you wish to do?\n",
      "0 - Show catalog | 1 - Rent a car | 2 - Return a car | 3 - Leave program\n"
     ]
    },
    {
     "name": "stdin",
     "output_type": "stream",
     "text": [
      " 3\n"
     ]
    }
   ],
   "source": [
    "import os\n",
    "\n",
    "# Initializes lists\n",
    "available = [\"Chevrolet Tracker\", \"Chevrolet Onix\", \"Chevrolet Spin\", \"Hyundai HB20\", \"Hyundai Tucson\", \"Fiat Uno\", \"Fiat Mobi\", \"Fiat Pulse\"]          \n",
    "price_available = [120, 90, 150, 85, 120, 60, 70, 130]\n",
    "unavailable = []\n",
    "price_unavailable = []\n",
    "\n",
    "# Shows catalog\n",
    "def show_catalog():\n",
    "    for i in range(len(available)):\n",
    "        print(\"[{}] {} - R$ {} /day\".format(i, available[i], price_available[i]))\n",
    "\n",
    "# Rents\n",
    "def rent(available, price_available, unavailable, price_unavailable):\n",
    "    print(\"Type the number of the car you want to rent.\")\n",
    "    car_code = int(input())\n",
    "    print(\"Type the number of days for which you want to rent.\")\n",
    "    n_days = int(input())\n",
    "    print(\"You chose {} for {} days. Do you want to proceed?\".format(available[car_code], n_days))\n",
    "    print(\"That would cost R$ {}. Do you wish to rent? 1 - Yes, 0 - No\".format(price_available[car_code]*n_days))\n",
    "    rent = int(input())\n",
    "    if rent == 1:\n",
    "        print(\"Congratulations. You've rented {} for {} days.\".format(available[car_code], n_days))\n",
    "        unavailable.append(available[car_code])\n",
    "        price_unavailable.append(price_available[car_code])\n",
    "        del available[car_code]\n",
    "        del price_available[car_code]\n",
    "    print(\"1 - Go back | 0 - Leave program\")\n",
    "    go_leave = int(input())\n",
    "    if go_leave == 1:\n",
    "        return(available, price_available, unavailable, price_unavailable)\n",
    "    else:\n",
    "        os._exit(0)\n",
    "    \n",
    "\n",
    "# Returns\n",
    "def returning(available, price_available, unavailable, price_unavailable):\n",
    "    print(\"Here's the list of rented cars.\")\n",
    "    for i in range(len(unavailable)):\n",
    "        print(\"[{}] {} - R$ {} /day\".format(i, unavailable[i], price_unavailable[i]))\n",
    "    print(\"Type the code of the car you want to return.\")\n",
    "    car_code = int(input())\n",
    "    print(\"Thank you for returning {}\".format(unavailable[car_code]))\n",
    "    available.append(unavailable[car_code])\n",
    "    price_available.append(price_unavailable[car_code])\n",
    "    del unavailable[car_code]\n",
    "    del price_unavailable[car_code]\n",
    "    print(\"1 - Go back | 0 - Leave program\")\n",
    "    go_leave = int(input())\n",
    "    if go_leave == 1:\n",
    "        return(available, price_available, unavailable, price_unavailable)\n",
    "    else:\n",
    "        os._exit(0)\n",
    "\n",
    "while True:\n",
    "    print(\"Welcome to our car rental services\")\n",
    "    print(\"==================================\")\n",
    "    print(\"What do you wish to do?\")\n",
    "    print(\"0 - Show catalog | 1 - Rent a car | 2 - Return a car | 3 - Leave program\")\n",
    "    wish = int(input())\n",
    "    if wish == 0:\n",
    "        os.system(\"cls\")\n",
    "        show_catalog()\n",
    "    elif wish == 1:\n",
    "        available, price_available, unavailable, price_unavailable = rent(available, price_available, unavailable, price_unavailable)\n",
    "    elif wish == 2:\n",
    "        os.system(\"cls\")\n",
    "        available, price_available, unavailable, price_unavailabel = returning(available, price_available, unavailable, price_unavailable)\n",
    "    else:\n",
    "        os._exit(0)"
   ]
  }
 ],
 "metadata": {
  "kernelspec": {
   "display_name": "Python 3 (ipykernel)",
   "language": "python",
   "name": "python3"
  },
  "language_info": {
   "codemirror_mode": {
    "name": "ipython",
    "version": 3
   },
   "file_extension": ".py",
   "mimetype": "text/x-python",
   "name": "python",
   "nbconvert_exporter": "python",
   "pygments_lexer": "ipython3",
   "version": "3.13.1"
  }
 },
 "nbformat": 4,
 "nbformat_minor": 5
}
